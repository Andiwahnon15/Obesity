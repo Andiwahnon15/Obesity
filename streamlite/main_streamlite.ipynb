{
 "cells": [
  {
   "cell_type": "code",
   "execution_count": null,
   "metadata": {},
   "outputs": [],
   "source": [
    "import pandas as pd\n",
    "import numpy as np\n",
    "import matplotlib.pyplot as plt\n",
    "import seaborn as sns\n",
    "from sklearn.model_selection import train_test_split\n",
    "from sklearn.preprocessing import MinMaxScaler, StandardScaler\n",
    "from sklearn.ensemble import RandomForestClassifier\n",
    "from sklearn.metrics import precision_score, recall_score, f1_score\n",
    "from sklearn.metrics import confusion_matrix\n",
    "from sklearn.model_selection import RandomizedSearchCV"
   ]
  },
  {
   "cell_type": "code",
   "execution_count": null,
   "metadata": {},
   "outputs": [],
   "source": [
    "#Leemos la data\n",
    "url=r'C:\\Users\\andre\\Downloads\\ObesityDataSet_raw_and_data_sinthetic.csv'\n",
    "df=pd.read_csv(url)"
   ]
  },
  {
   "cell_type": "code",
   "execution_count": null,
   "metadata": {},
   "outputs": [],
   "source": [
    "#Hacemos que se vean rodas las columnas\n",
    "pd.set_option('display.max_columns', None)"
   ]
  },
  {
   "cell_type": "markdown",
   "metadata": {},
   "source": [
    "FAVC:\" Do you eat high caloric food frequently? \"\n",
    "\n",
    "FCVC:\" Do you usually eat vegetables in your meals? \"\n",
    "\n",
    "NCP:\" How many main meals do you have daily? \"\n",
    "\n",
    "CAEC:\" Do you eat any food between meals? \"\n",
    "\n",
    "SMOKE:\" Do you smoke? \"\n",
    "\n",
    "CH2O:\" How much water do you drink daily? \"\n",
    "\n",
    "SCC:\" Do you monitor the calories you eat daily? \"\n",
    "\n",
    "FAF:\" How often do you have physical activity? \"\n",
    "\n",
    "TUE:\" How much time do you use technological devices such as cell phone, videogames, television, computer and others? \"\n",
    "\n",
    "CALC :\" How often do you drink alcohol? \"\n",
    "\n",
    "MTRANS:\" Which transportation do you usually use?"
   ]
  },
  {
   "cell_type": "code",
   "execution_count": null,
   "metadata": {},
   "outputs": [],
   "source": [
    "#Miramos tanto sus dtypes como si tiene nulos\n",
    "df.info()"
   ]
  },
  {
   "cell_type": "code",
   "execution_count": null,
   "metadata": {},
   "outputs": [],
   "source": [
    "#Miramos si tiene datos nulos\n",
    "df.isnull().sum()"
   ]
  },
  {
   "cell_type": "markdown",
   "metadata": {},
   "source": [
    "### **Limpieza**"
   ]
  },
  {
   "cell_type": "code",
   "execution_count": null,
   "metadata": {},
   "outputs": [],
   "source": [
    "#Quitamos las mayusculas \n",
    "df.columns=df.columns.str.lower()"
   ]
  },
  {
   "cell_type": "code",
   "execution_count": null,
   "metadata": {},
   "outputs": [],
   "source": [
    "#Cambiamos los nombres de dos columnas \"family_history_with_overweight\" y \"nobeyesdad\"\n",
    "df=df.rename(columns={\"family_history_with_overweight\": \"family_history\", \"nobeyesdad\": \"obesity_level\"})"
   ]
  },
  {
   "cell_type": "code",
   "execution_count": null,
   "metadata": {},
   "outputs": [],
   "source": [
    "#Calculo el índice de masa corporal (IMC) por nivel de obesidad\n",
    "df['bmi'] = df['weight'] / (df['height'] / 100) ** 2"
   ]
  },
  {
   "cell_type": "code",
   "execution_count": null,
   "metadata": {},
   "outputs": [],
   "source": [
    "#seleccionamos las columnas categoricas y numericas y las separamos en dataframes distintos.\n",
    "potential_categorical_from_numerical = df.select_dtypes(\"number\").loc[:, df.select_dtypes(\"number\").nunique() < 20]\n",
    "\n",
    "df_categorical = pd.concat([df.select_dtypes(\"object\"), potential_categorical_from_numerical], axis=1)\n",
    "\n",
    "df_numerical = df.select_dtypes(\"number\").drop(columns=potential_categorical_from_numerical.columns)"
   ]
  },
  {
   "cell_type": "code",
   "execution_count": null,
   "metadata": {},
   "outputs": [],
   "source": [
    "# Realizar One-Hot Encoding usando pd.get_dummies()\n",
    "df_encoded = pd.get_dummies(df_categorical, columns=['calc', 'caec', 'mtrans'], drop_first=True)"
   ]
  },
  {
   "cell_type": "code",
   "execution_count": null,
   "metadata": {},
   "outputs": [],
   "source": [
    "# Convertir 'gender' a formato binario\n",
    "df_encoded['gender'] = df_encoded['gender'].apply(lambda x: 1 if x == 'Male' else 0)\n",
    "\n",
    "# Asegurar que las columnas binarias estén en formato correcto (0 y 1)\n",
    "binary_columns = ['favc', 'scc', 'smoke', 'family_history']\n",
    "for col in binary_columns:\n",
    "    df_encoded[col] = df_encoded[col].apply(lambda x: 1 if x == 'yes' else 0)"
   ]
  }
 ],
 "metadata": {
  "language_info": {
   "name": "python"
  }
 },
 "nbformat": 4,
 "nbformat_minor": 2
}
