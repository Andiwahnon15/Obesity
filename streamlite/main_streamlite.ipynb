{
 "cells": [
  {
   "cell_type": "code",
   "execution_count": null,
   "metadata": {},
   "outputs": [],
   "source": [
    "import pandas as pd\n",
    "import numpy as np\n",
    "import matplotlib.pyplot as plt\n",
    "import seaborn as sns\n",
    "from sklearn.model_selection import train_test_split\n",
    "from sklearn.preprocessing import MinMaxScaler, StandardScaler\n",
    "from sklearn.ensemble import RandomForestClassifier\n",
    "from sklearn.metrics import precision_score, recall_score, f1_score\n",
    "from sklearn.metrics import confusion_matrix\n",
    "from sklearn.model_selection import RandomizedSearchCV"
   ]
  },
  {
   "cell_type": "code",
   "execution_count": null,
   "metadata": {},
   "outputs": [],
   "source": [
    "#Leemos la data\n",
    "url=r'C:\\Users\\andre\\Downloads\\ObesityDataSet_raw_and_data_sinthetic.csv'\n",
    "df=pd.read_csv(url)"
   ]
  },
  {
   "cell_type": "code",
   "execution_count": null,
   "metadata": {},
   "outputs": [],
   "source": [
    "#Hacemos que se vean rodas las columnas\n",
    "pd.set_option('display.max_columns', None)"
   ]
  },
  {
   "cell_type": "markdown",
   "metadata": {},
   "source": [
    "FAVC:\" Do you eat high caloric food frequently? \"\n",
    "\n",
    "FCVC:\" Do you usually eat vegetables in your meals? \"\n",
    "\n",
    "NCP:\" How many main meals do you have daily? \"\n",
    "\n",
    "CAEC:\" Do you eat any food between meals? \"\n",
    "\n",
    "SMOKE:\" Do you smoke? \"\n",
    "\n",
    "CH2O:\" How much water do you drink daily? \"\n",
    "\n",
    "SCC:\" Do you monitor the calories you eat daily? \"\n",
    "\n",
    "FAF:\" How often do you have physical activity? \"\n",
    "\n",
    "TUE:\" How much time do you use technological devices such as cell phone, videogames, television, computer and others? \"\n",
    "\n",
    "CALC :\" How often do you drink alcohol? \"\n",
    "\n",
    "MTRANS:\" Which transportation do you usually use?"
   ]
  },
  {
   "cell_type": "code",
   "execution_count": null,
   "metadata": {},
   "outputs": [],
   "source": [
    "#Miramos tanto sus dtypes como si tiene nulos\n",
    "df.info()"
   ]
  },
  {
   "cell_type": "code",
   "execution_count": null,
   "metadata": {},
   "outputs": [],
   "source": [
    "#Miramos si tiene datos nulos\n",
    "df.isnull().sum()"
   ]
  },
  {
   "cell_type": "code",
   "execution_count": null,
   "metadata": {},
   "outputs": [],
   "source": []
  }
 ],
 "metadata": {
  "language_info": {
   "name": "python"
  }
 },
 "nbformat": 4,
 "nbformat_minor": 2
}
